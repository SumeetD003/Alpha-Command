{
 "cells": [
  {
   "cell_type": "code",
   "execution_count": 27,
   "metadata": {},
   "outputs": [
    {
     "data": {
      "text/html": [
       "<div>\n",
       "<style scoped>\n",
       "    .dataframe tbody tr th:only-of-type {\n",
       "        vertical-align: middle;\n",
       "    }\n",
       "\n",
       "    .dataframe tbody tr th {\n",
       "        vertical-align: top;\n",
       "    }\n",
       "\n",
       "    .dataframe thead th {\n",
       "        text-align: right;\n",
       "    }\n",
       "</style>\n",
       "<table border=\"1\" class=\"dataframe\">\n",
       "  <thead>\n",
       "    <tr style=\"text-align: right;\">\n",
       "      <th></th>\n",
       "      <th>Open</th>\n",
       "      <th>High</th>\n",
       "      <th>Low</th>\n",
       "      <th>Close</th>\n",
       "      <th>Volume</th>\n",
       "    </tr>\n",
       "  </thead>\n",
       "  <tbody>\n",
       "    <tr>\n",
       "      <th>2017-04-19 09:00:00</th>\n",
       "      <td>1.07160</td>\n",
       "      <td>1.07220</td>\n",
       "      <td>1.07083</td>\n",
       "      <td>1.07219</td>\n",
       "      <td>1413</td>\n",
       "    </tr>\n",
       "    <tr>\n",
       "      <th>2017-04-19 10:00:00</th>\n",
       "      <td>1.07214</td>\n",
       "      <td>1.07296</td>\n",
       "      <td>1.07214</td>\n",
       "      <td>1.07260</td>\n",
       "      <td>1241</td>\n",
       "    </tr>\n",
       "    <tr>\n",
       "      <th>2017-04-19 11:00:00</th>\n",
       "      <td>1.07256</td>\n",
       "      <td>1.07299</td>\n",
       "      <td>1.07170</td>\n",
       "      <td>1.07192</td>\n",
       "      <td>1025</td>\n",
       "    </tr>\n",
       "    <tr>\n",
       "      <th>2017-04-19 12:00:00</th>\n",
       "      <td>1.07195</td>\n",
       "      <td>1.07280</td>\n",
       "      <td>1.07195</td>\n",
       "      <td>1.07202</td>\n",
       "      <td>1460</td>\n",
       "    </tr>\n",
       "    <tr>\n",
       "      <th>2017-04-19 13:00:00</th>\n",
       "      <td>1.07200</td>\n",
       "      <td>1.07230</td>\n",
       "      <td>1.07045</td>\n",
       "      <td>1.07050</td>\n",
       "      <td>1554</td>\n",
       "    </tr>\n",
       "    <tr>\n",
       "      <th>...</th>\n",
       "      <td>...</td>\n",
       "      <td>...</td>\n",
       "      <td>...</td>\n",
       "      <td>...</td>\n",
       "      <td>...</td>\n",
       "    </tr>\n",
       "    <tr>\n",
       "      <th>2018-02-07 11:00:00</th>\n",
       "      <td>1.23390</td>\n",
       "      <td>1.23548</td>\n",
       "      <td>1.23386</td>\n",
       "      <td>1.23501</td>\n",
       "      <td>2203</td>\n",
       "    </tr>\n",
       "    <tr>\n",
       "      <th>2018-02-07 12:00:00</th>\n",
       "      <td>1.23501</td>\n",
       "      <td>1.23508</td>\n",
       "      <td>1.23342</td>\n",
       "      <td>1.23422</td>\n",
       "      <td>2325</td>\n",
       "    </tr>\n",
       "    <tr>\n",
       "      <th>2018-02-07 13:00:00</th>\n",
       "      <td>1.23422</td>\n",
       "      <td>1.23459</td>\n",
       "      <td>1.23338</td>\n",
       "      <td>1.23372</td>\n",
       "      <td>2824</td>\n",
       "    </tr>\n",
       "    <tr>\n",
       "      <th>2018-02-07 14:00:00</th>\n",
       "      <td>1.23374</td>\n",
       "      <td>1.23452</td>\n",
       "      <td>1.23238</td>\n",
       "      <td>1.23426</td>\n",
       "      <td>4065</td>\n",
       "    </tr>\n",
       "    <tr>\n",
       "      <th>2018-02-07 15:00:00</th>\n",
       "      <td>1.23427</td>\n",
       "      <td>1.23444</td>\n",
       "      <td>1.22904</td>\n",
       "      <td>1.22904</td>\n",
       "      <td>6143</td>\n",
       "    </tr>\n",
       "  </tbody>\n",
       "</table>\n",
       "<p>5000 rows × 5 columns</p>\n",
       "</div>"
      ],
      "text/plain": [
       "                        Open     High      Low    Close  Volume\n",
       "2017-04-19 09:00:00  1.07160  1.07220  1.07083  1.07219    1413\n",
       "2017-04-19 10:00:00  1.07214  1.07296  1.07214  1.07260    1241\n",
       "2017-04-19 11:00:00  1.07256  1.07299  1.07170  1.07192    1025\n",
       "2017-04-19 12:00:00  1.07195  1.07280  1.07195  1.07202    1460\n",
       "2017-04-19 13:00:00  1.07200  1.07230  1.07045  1.07050    1554\n",
       "...                      ...      ...      ...      ...     ...\n",
       "2018-02-07 11:00:00  1.23390  1.23548  1.23386  1.23501    2203\n",
       "2018-02-07 12:00:00  1.23501  1.23508  1.23342  1.23422    2325\n",
       "2018-02-07 13:00:00  1.23422  1.23459  1.23338  1.23372    2824\n",
       "2018-02-07 14:00:00  1.23374  1.23452  1.23238  1.23426    4065\n",
       "2018-02-07 15:00:00  1.23427  1.23444  1.22904  1.22904    6143\n",
       "\n",
       "[5000 rows x 5 columns]"
      ]
     },
     "execution_count": 27,
     "metadata": {},
     "output_type": "execute_result"
    }
   ],
   "source": [
    "from TradeMaster.test import EURUSD, SMA\n",
    "\n",
    "data = EURUSD.copy()\n",
    "data"
   ]
  },
  {
   "cell_type": "markdown",
   "metadata": {},
   "source": [
    "In\n",
    "[supervised machine learning](https://en.wikipedia.org/wiki/Supervised_learning), \n",
    "we try to learn a function that maps input feature vectors (independent variables) into known output values (dependent variable):\n",
    "\n",
    "$$ f\\colon X \\to \\mathbf{y} $$\n",
    "\n",
    "That way, provided our model function is sufficient, we can predict future output values from the newly acquired input feature vectors to some degree of certainty.\n",
    "In our example, we'll try to map several price-derived features and common technical indicators to the price point two days in the future.\n",
    "We construct [model design matrix](https://en.wikipedia.org/wiki/Design_matrix) $X$ below:"
   ]
  },
  {
   "cell_type": "code",
   "execution_count": 28,
   "metadata": {},
   "outputs": [],
   "source": [
    "def BBANDS(data, n_lookback, n_std):\n",
    "    \"\"\"Bollinger bands indicator\"\"\"\n",
    "    hlc3 = (data.High + data.Low + data.Close) / 3\n",
    "    mean, std = hlc3.rolling(n_lookback).mean(), hlc3.rolling(n_lookback).std()\n",
    "    upper = mean + n_std*std\n",
    "    lower = mean - n_std*std\n",
    "    return upper, lower\n",
    "\n",
    "\n",
    "close = data.Close.values\n",
    "sma10 = SMA(data.Close, 10)\n",
    "sma20 = SMA(data.Close, 20)\n",
    "sma50 = SMA(data.Close, 50)\n",
    "sma100 = SMA(data.Close, 100)\n",
    "upper, lower = BBANDS(data, 20, 2)\n",
    "\n",
    "# Design matrix / independent features:\n",
    "\n",
    "# Price-derived features\n",
    "data['X_SMA10'] = (close - sma10) / close\n",
    "data['X_SMA20'] = (close - sma20) / close\n",
    "data['X_SMA50'] = (close - sma50) / close\n",
    "data['X_SMA100'] = (close - sma100) / close\n",
    "\n",
    "data['X_DELTA_SMA10'] = (sma10 - sma20) / close\n",
    "data['X_DELTA_SMA20'] = (sma20 - sma50) / close\n",
    "data['X_DELTA_SMA50'] = (sma50 - sma100) / close\n",
    "\n",
    "# Indicator features\n",
    "data['X_MOM'] = data.Close.pct_change(periods=2)\n",
    "data['X_BB_upper'] = (upper - close) / close\n",
    "data['X_BB_lower'] = (lower - close) / close\n",
    "data['X_BB_width'] = (upper - lower) / close\n",
    "data['X_Sentiment'] = ~data.index.to_series().between('2017-09-27', '2017-12-14')\n",
    "\n",
    "# Some datetime features for good measure\n",
    "data['X_day'] = data.index.dayofweek\n",
    "data['X_hour'] = data.index.hour\n",
    "\n",
    "data = data.dropna().astype(float)"
   ]
  },
  {
   "cell_type": "markdown",
   "metadata": {},
   "source": [
    "Since all our indicators work only with past values, we can safely precompute the design matrix in advance. Alternatively, we would reconstruct the matrix every time before training the model.\n",
    "\n",
    "Notice the made-up _sentiment_ feature. In real life, one would obtain similar features by parsing news sources, Twitter sentiment, Stocktwits or similar.\n",
    "This is just to show input data can contain all sorts of additional explanatory columns.\n",
    "\n",
    "As mentioned, our dependent variable will be the price (return) two days in the future, simplified into values $1$ when the return is positive (and significant), $-1$ when negative, or $0$ when the return after two days is roughly around zero. Let's write some functions that return our model matrix $X$ and dependent, class variable $\\mathbf{y}$ as plain NumPy arrays:"
   ]
  },
  {
   "cell_type": "code",
   "execution_count": 29,
   "metadata": {},
   "outputs": [],
   "source": [
    "import numpy as np\n",
    "\n",
    "\n",
    "def get_X(data):\n",
    "    \"\"\"Return model design matrix X\"\"\"\n",
    "    return data.filter(like='X').values\n",
    "\n",
    "\n",
    "def get_y(data):\n",
    "    \"\"\"Return dependent variable y\"\"\"\n",
    "    y = data.Close.pct_change(48).shift(-48)  # Returns after roughly two days\n",
    "    y[y.between(-.004, .004)] = 0             # Devalue returns smaller than 0.4%\n",
    "    y[y > 0] = 1\n",
    "    y[y < 0] = -1\n",
    "    return y\n",
    "\n",
    "\n",
    "def get_clean_Xy(df):\n",
    "    \"\"\"Return (X, y) cleaned of NaN values\"\"\"\n",
    "    X = get_X(df)\n",
    "    y = get_y(df).values\n",
    "    isnan = np.isnan(y)\n",
    "    X = X[~isnan]\n",
    "    y = y[~isnan]\n",
    "    return X, y"
   ]
  },
  {
   "cell_type": "markdown",
   "metadata": {},
   "source": [
    "Let's see how our data performs modeled using a simple\n",
    "[k-nearest neighbors](https://en.wikipedia.org/wiki/K-nearest_neighbors_algorithm)\n",
    "(kNN) algorithm from the state of the art\n",
    "[scikit-learn](https://scikit-learn.org)\n",
    "Python machine learning package.\n",
    "To avoid (or at least demonstrate)\n",
    "[overfitting](https://scikit-learn.org/stable/auto_examples/model_selection/plot_underfitting_overfitting.html),\n",
    "always split your data into _train_ and _test_ sets; in particular, don't validate your model performance on the same data it was built on."
   ]
  },
  {
   "cell_type": "code",
   "execution_count": null,
   "metadata": {},
   "outputs": [],
   "source": [
    "import pandas as pd\n",
    "from sklearn.neighbors import KNeighborsClassifier\n",
    "from sklearn.model_selection import train_test_split\n",
    "\n",
    "X, y = get_clean_Xy(data)\n",
    "X_train, X_test, y_train, y_test = train_test_split(X, y, test_size=.5, random_state=0)\n",
    "\n",
    "clf = KNeighborsClassifier(7)  # Model the output based on 7 \"nearest\" examples\n",
    "clf.fit(X_train, y_train)\n",
    "\n",
    "y_pred = clf.predict(X_test)\n",
    "\n",
    "_ = pd.DataFrame({'y_true': y_test, 'y_pred': y_pred}).plot(figsize=(15, 2), alpha=.7)\n",
    "print('Classification accuracy: ', np.mean(y_test == y_pred))"
   ]
  },
  {
   "cell_type": "markdown",
   "metadata": {},
   "source": [
    "We see the forecasts are all over the place (classification accuracy 42%), but is the model of any use under real backtesting?\n",
    "\n",
    "Let's backtest a simple strategy that buys the asset for 20% of available equity with 20:1 leverage whenever the forecast is positive (the price in two days is predicted to go up),\n",
    "and sells under the same terms when the forecast is negative, all the while setting reasonable stop-loss and take-profit levels. Notice also the steady use of\n",
    "[`data.df`](https://kernc.github.io/backtesting.py/doc/backtesting/backtesting.html#backtesting.backtesting.Strategy.data)\n",
    "accessor:"
   ]
  },
  {
   "cell_type": "code",
   "execution_count": 30,
   "metadata": {},
   "outputs": [
    {
     "name": "stdout",
     "output_type": "stream",
     "text": [
      "CPU times: total: 2.36 s\n",
      "Wall time: 5.88 s\n"
     ]
    },
    {
     "data": {
      "text/plain": [
       "Start                     2017-04-25 12:00:00\n",
       "End                       2018-02-07 15:00:00\n",
       "Duration                    288 days 03:00:00\n",
       "Exposure Time [%]                   79.412365\n",
       "Equity Final [$]                 10185.264607\n",
       "Equity Peak [$]                  10213.540416\n",
       "Return [%]                           1.852646\n",
       "Buy & Hold Return [%]               12.869869\n",
       "Return (Ann.) [%]                    1.898259\n",
       "Volatility (Ann.) [%]                0.950862\n",
       "Sharpe Ratio                         1.996355\n",
       "Sortino Ratio                        3.178337\n",
       "Calmar Ratio                         3.923624\n",
       "Max. Drawdown [%]                   -0.483802\n",
       "Avg. Drawdown [%]                   -0.054677\n",
       "Max. Drawdown Duration       41 days 21:00:00\n",
       "Avg. Drawdown Duration        2 days 13:00:00\n",
       "# Trades                                  354\n",
       "Win Rate [%]                        52.542373\n",
       "Best Trade [%]                       0.578258\n",
       "Worst Trade [%]                     -0.519427\n",
       "Avg. Trade [%]                       0.023596\n",
       "Max. Trade Duration           3 days 09:00:00\n",
       "Avg. Trade Duration           0 days 19:00:00\n",
       "Profit Factor                        1.215787\n",
       "Expectancy [%]                       0.024023\n",
       "SQN                                  1.889927\n",
       "Kelly Criterion                      0.122251\n",
       "_strategy                 MLTrainOnceStrategy\n",
       "_equity_curve                             ...\n",
       "_trades                        Size  Entry...\n",
       "dtype: object"
      ]
     },
     "execution_count": 30,
     "metadata": {},
     "output_type": "execute_result"
    }
   ],
   "source": [
    "%%time\n",
    "\n",
    "from TradeMaster import Backtest, Strategy\n",
    "\n",
    "N_TRAIN = 400\n",
    "\n",
    "\n",
    "class MLTrainOnceStrategy(Strategy):\n",
    "    price_delta = .004  # 0.4%\n",
    "\n",
    "    def init(self):        \n",
    "        # Init our model, a kNN classifier\n",
    "        self.clf = KNeighborsClassifier(7)\n",
    "\n",
    "        # Train the classifier in advance on the first N_TRAIN examples\n",
    "        df = self.data.df.iloc[:N_TRAIN]\n",
    "        X, y = get_clean_Xy(df)\n",
    "        self.clf.fit(X, y)\n",
    "\n",
    "        # Plot y for inspection\n",
    "        self.I(get_y, self.data.df, name='y_true')\n",
    "\n",
    "        # Prepare empty, all-NaN forecast indicator\n",
    "        self.forecasts = self.I(lambda: np.repeat(np.nan, len(self.data)), name='forecast')\n",
    "\n",
    "    def next(self):\n",
    "        # Skip the training, in-sample data\n",
    "        if len(self.data) < N_TRAIN:\n",
    "            return\n",
    "\n",
    "        # Proceed only with out-of-sample data. Prepare some variables\n",
    "        high, low, close = self.data.High, self.data.Low, self.data.Close\n",
    "        current_time = self.data.index[-1]\n",
    "\n",
    "        # Forecast the next movement\n",
    "        X = get_X(self.data.df.iloc[-1:])\n",
    "        forecast = self.clf.predict(X)[0]\n",
    "\n",
    "        # Update the plotted \"forecast\" indicator\n",
    "        self.forecasts[-1] = forecast\n",
    "\n",
    "        # If our forecast is upwards and we don't already hold a long position\n",
    "        # place a long order for 20% of available account equity. Vice versa for short.\n",
    "        # Also set target take-profit and stop-loss prices to be one price_delta\n",
    "        # away from the current closing price.\n",
    "        upper, lower = close[-1] * (1 + np.r_[1, -1]*self.price_delta)\n",
    "\n",
    "        if forecast == 1 and not self.position.is_long:\n",
    "            self.buy(size=.2, tp=upper, sl=lower)\n",
    "        elif forecast == -1 and not self.position.is_short:\n",
    "            self.sell(size=.2, tp=lower, sl=upper)\n",
    "\n",
    "        # Additionally, set aggressive stop-loss on trades that have been open \n",
    "        # for more than two days\n",
    "        for trade in self.trades:\n",
    "            if current_time - trade.entry_time > pd.Timedelta('2 days'):\n",
    "                if trade.is_long:\n",
    "                    trade.sl = max(trade.sl, low)\n",
    "                else:\n",
    "                    trade.sl = min(trade.sl, high)\n",
    "\n",
    "\n",
    "bt = Backtest(data, MLTrainOnceStrategy, commission=.0002)\n",
    "bt.run()"
   ]
  },
  {
   "cell_type": "code",
   "execution_count": 31,
   "metadata": {
    "scrolled": false
   },
   "outputs": [
    {
     "name": "stderr",
     "output_type": "stream",
     "text": [
      "c:\\Users\\anith\\AppData\\Local\\Programs\\Python\\Python312\\Lib\\site-packages\\TradeMaster\\_plotting.py:660: UserWarning: found multiple competing values for 'toolbar.active_drag' property; using the latest value\n",
      "  fig = gridplot(\n",
      "c:\\Users\\anith\\AppData\\Local\\Programs\\Python\\Python312\\Lib\\site-packages\\TradeMaster\\_plotting.py:660: UserWarning: found multiple competing values for 'toolbar.active_scroll' property; using the latest value\n",
      "  fig = gridplot(\n"
     ]
    },
    {
     "data": {
      "text/html": [
       "<div style=\"display: table;\"><div style=\"display: table-row;\"><div style=\"display: table-cell;\"><b title=\"bokeh.models.plots.GridPlot\">GridPlot</b>(</div><div style=\"display: table-cell;\">id&nbsp;=&nbsp;'p3954', <span id=\"p3985\" style=\"cursor: pointer;\">&hellip;)</span></div></div><div class=\"p3984\" style=\"display: none;\"><div style=\"display: table-cell;\"></div><div style=\"display: table-cell;\">align&nbsp;=&nbsp;'auto',</div></div><div class=\"p3984\" style=\"display: none;\"><div style=\"display: table-cell;\"></div><div style=\"display: table-cell;\">aspect_ratio&nbsp;=&nbsp;None,</div></div><div class=\"p3984\" style=\"display: none;\"><div style=\"display: table-cell;\"></div><div style=\"display: table-cell;\">children&nbsp;=&nbsp;[(figure(id='p3605', ...), 0, 0), (figure(id='p3702', ...), 1, 0), (figure(id='p3561', ...), 2, 0), (figure(id='p3757', ...), 3, 0), (figure(id='p3852', ...), 4, 0), (figure(id='p3897', ...), 5, 0)],</div></div><div class=\"p3984\" style=\"display: none;\"><div style=\"display: table-cell;\"></div><div style=\"display: table-cell;\">cols&nbsp;=&nbsp;None,</div></div><div class=\"p3984\" style=\"display: none;\"><div style=\"display: table-cell;\"></div><div style=\"display: table-cell;\">context_menu&nbsp;=&nbsp;None,</div></div><div class=\"p3984\" style=\"display: none;\"><div style=\"display: table-cell;\"></div><div style=\"display: table-cell;\">css_classes&nbsp;=&nbsp;[],</div></div><div class=\"p3984\" style=\"display: none;\"><div style=\"display: table-cell;\"></div><div style=\"display: table-cell;\">css_variables&nbsp;=&nbsp;{},</div></div><div class=\"p3984\" style=\"display: none;\"><div style=\"display: table-cell;\"></div><div style=\"display: table-cell;\">disabled&nbsp;=&nbsp;False,</div></div><div class=\"p3984\" style=\"display: none;\"><div style=\"display: table-cell;\"></div><div style=\"display: table-cell;\">elements&nbsp;=&nbsp;[],</div></div><div class=\"p3984\" style=\"display: none;\"><div style=\"display: table-cell;\"></div><div style=\"display: table-cell;\">flow_mode&nbsp;=&nbsp;'block',</div></div><div class=\"p3984\" style=\"display: none;\"><div style=\"display: table-cell;\"></div><div style=\"display: table-cell;\">height&nbsp;=&nbsp;None,</div></div><div class=\"p3984\" style=\"display: none;\"><div style=\"display: table-cell;\"></div><div style=\"display: table-cell;\">height_policy&nbsp;=&nbsp;'auto',</div></div><div class=\"p3984\" style=\"display: none;\"><div style=\"display: table-cell;\"></div><div style=\"display: table-cell;\">js_event_callbacks&nbsp;=&nbsp;{},</div></div><div class=\"p3984\" style=\"display: none;\"><div style=\"display: table-cell;\"></div><div style=\"display: table-cell;\">js_property_callbacks&nbsp;=&nbsp;{},</div></div><div class=\"p3984\" style=\"display: none;\"><div style=\"display: table-cell;\"></div><div style=\"display: table-cell;\">margin&nbsp;=&nbsp;None,</div></div><div class=\"p3984\" style=\"display: none;\"><div style=\"display: table-cell;\"></div><div style=\"display: table-cell;\">max_height&nbsp;=&nbsp;None,</div></div><div class=\"p3984\" style=\"display: none;\"><div style=\"display: table-cell;\"></div><div style=\"display: table-cell;\">max_width&nbsp;=&nbsp;None,</div></div><div class=\"p3984\" style=\"display: none;\"><div style=\"display: table-cell;\"></div><div style=\"display: table-cell;\">min_height&nbsp;=&nbsp;None,</div></div><div class=\"p3984\" style=\"display: none;\"><div style=\"display: table-cell;\"></div><div style=\"display: table-cell;\">min_width&nbsp;=&nbsp;None,</div></div><div class=\"p3984\" style=\"display: none;\"><div style=\"display: table-cell;\"></div><div style=\"display: table-cell;\">name&nbsp;=&nbsp;None,</div></div><div class=\"p3984\" style=\"display: none;\"><div style=\"display: table-cell;\"></div><div style=\"display: table-cell;\">resizable&nbsp;=&nbsp;False,</div></div><div class=\"p3984\" style=\"display: none;\"><div style=\"display: table-cell;\"></div><div style=\"display: table-cell;\">rows&nbsp;=&nbsp;None,</div></div><div class=\"p3984\" style=\"display: none;\"><div style=\"display: table-cell;\"></div><div style=\"display: table-cell;\">sizing_mode&nbsp;=&nbsp;'stretch_width',</div></div><div class=\"p3984\" style=\"display: none;\"><div style=\"display: table-cell;\"></div><div style=\"display: table-cell;\">spacing&nbsp;=&nbsp;0,</div></div><div class=\"p3984\" style=\"display: none;\"><div style=\"display: table-cell;\"></div><div style=\"display: table-cell;\">styles&nbsp;=&nbsp;{},</div></div><div class=\"p3984\" style=\"display: none;\"><div style=\"display: table-cell;\"></div><div style=\"display: table-cell;\">stylesheets&nbsp;=&nbsp;[],</div></div><div class=\"p3984\" style=\"display: none;\"><div style=\"display: table-cell;\"></div><div style=\"display: table-cell;\">subscribed_events&nbsp;=&nbsp;PropertyValueSet(),</div></div><div class=\"p3984\" style=\"display: none;\"><div style=\"display: table-cell;\"></div><div style=\"display: table-cell;\">syncable&nbsp;=&nbsp;True,</div></div><div class=\"p3984\" style=\"display: none;\"><div style=\"display: table-cell;\"></div><div style=\"display: table-cell;\">tags&nbsp;=&nbsp;[],</div></div><div class=\"p3984\" style=\"display: none;\"><div style=\"display: table-cell;\"></div><div style=\"display: table-cell;\">toolbar&nbsp;=&nbsp;Toolbar(id='p3953', ...),</div></div><div class=\"p3984\" style=\"display: none;\"><div style=\"display: table-cell;\"></div><div style=\"display: table-cell;\">toolbar_location&nbsp;=&nbsp;'right',</div></div><div class=\"p3984\" style=\"display: none;\"><div style=\"display: table-cell;\"></div><div style=\"display: table-cell;\">visible&nbsp;=&nbsp;True,</div></div><div class=\"p3984\" style=\"display: none;\"><div style=\"display: table-cell;\"></div><div style=\"display: table-cell;\">width&nbsp;=&nbsp;None,</div></div><div class=\"p3984\" style=\"display: none;\"><div style=\"display: table-cell;\"></div><div style=\"display: table-cell;\">width_policy&nbsp;=&nbsp;'auto')</div></div></div>\n",
       "<script>\n",
       "(function() {\n",
       "  let expanded = false;\n",
       "  const ellipsis = document.getElementById(\"p3985\");\n",
       "  ellipsis.addEventListener(\"click\", function() {\n",
       "    const rows = document.getElementsByClassName(\"p3984\");\n",
       "    for (let i = 0; i < rows.length; i++) {\n",
       "      const el = rows[i];\n",
       "      el.style.display = expanded ? \"none\" : \"table-row\";\n",
       "    }\n",
       "    ellipsis.innerHTML = expanded ? \"&hellip;)\" : \"&lsaquo;&lsaquo;&lsaquo;\";\n",
       "    expanded = !expanded;\n",
       "  });\n",
       "})();\n",
       "</script>\n"
      ],
      "text/plain": [
       "GridPlot(id='p3954', ...)"
      ]
     },
     "execution_count": 31,
     "metadata": {},
     "output_type": "execute_result"
    }
   ],
   "source": [
    "bt.plot()"
   ]
  },
  {
   "cell_type": "markdown",
   "metadata": {},
   "source": [
    "Despite our lousy win rate, the strategy seems profitable. Let's see how it performs under\n",
    "[walk-forward optimization](https://en.wikipedia.org/wiki/Walk_forward_optimization),\n",
    "akin to k-fold or leave-one-out\n",
    "[cross-validation](https://en.wikipedia.org/wiki/Cross-validation_%28statistics%29):"
   ]
  },
  {
   "cell_type": "code",
   "execution_count": 32,
   "metadata": {
    "scrolled": false
   },
   "outputs": [
    {
     "name": "stdout",
     "output_type": "stream",
     "text": [
      "CPU times: total: 3.09 s\n",
      "Wall time: 6.6 s\n"
     ]
    },
    {
     "data": {
      "text/plain": [
       "Start                     2017-04-25 12:00:00\n",
       "End                       2018-02-07 15:00:00\n",
       "Duration                    288 days 03:00:00\n",
       "Exposure Time [%]                   71.720057\n",
       "Equity Final [$]                  5885.371145\n",
       "Equity Peak [$]                  10052.843539\n",
       "Return [%]                         -41.146289\n",
       "Buy & Hold Return [%]               12.869869\n",
       "Return (Ann.) [%]                  -41.902348\n",
       "Volatility (Ann.) [%]               10.794943\n",
       "Sharpe Ratio                        -3.881664\n",
       "Sortino Ratio                       -2.803659\n",
       "Calmar Ratio                        -1.010398\n",
       "Max. Drawdown [%]                  -41.471113\n",
       "Avg. Drawdown [%]                  -14.356287\n",
       "Max. Drawdown Duration      261 days 18:00:00\n",
       "Avg. Drawdown Duration       88 days 05:00:00\n",
       "# Trades                                  324\n",
       "Win Rate [%]                        41.666667\n",
       "Best Trade [%]                       0.384255\n",
       "Worst Trade [%]                     -0.506643\n",
       "Avg. Trade [%]                      -0.048462\n",
       "Max. Trade Duration           3 days 07:00:00\n",
       "Avg. Trade Duration           0 days 18:00:00\n",
       "Profit Factor                        0.673567\n",
       "Expectancy [%]                       -0.04804\n",
       "SQN                                 -2.792099\n",
       "Kelly Criterion                     -0.212186\n",
       "_strategy                 MLWalkForwardStr...\n",
       "_equity_curve                             ...\n",
       "_trades                         Size  Entr...\n",
       "dtype: object"
      ]
     },
     "execution_count": 32,
     "metadata": {},
     "output_type": "execute_result"
    }
   ],
   "source": [
    "%%time\n",
    "\n",
    "class MLWalkForwardStrategy(MLTrainOnceStrategy):\n",
    "    def next(self):\n",
    "        # Skip the cold start period with too few values available\n",
    "        if len(self.data) < N_TRAIN:\n",
    "            return\n",
    "\n",
    "        # Re-train the model only every 20 iterations.\n",
    "        # Since 20 << N_TRAIN, we don't lose much in terms of\n",
    "        # \"recent training examples\", but the speed-up is significant!\n",
    "        if len(self.data) % 20:\n",
    "            return super().next()\n",
    "\n",
    "        # Retrain on last N_TRAIN values\n",
    "        df = self.data.df[-N_TRAIN:]\n",
    "        X, y = get_clean_Xy(df)\n",
    "        self.clf.fit(X, y)\n",
    "\n",
    "        # Now that the model is fitted, \n",
    "        # proceed the same as in MLTrainOnceStrategy\n",
    "        super().next()\n",
    "\n",
    "\n",
    "bt = Backtest(data, MLWalkForwardStrategy, commission=.0002, margin=.05)\n",
    "bt.run()"
   ]
  },
  {
   "cell_type": "code",
   "execution_count": 33,
   "metadata": {
    "scrolled": false
   },
   "outputs": [
    {
     "name": "stderr",
     "output_type": "stream",
     "text": [
      "c:\\Users\\anith\\AppData\\Local\\Programs\\Python\\Python312\\Lib\\site-packages\\TradeMaster\\_plotting.py:660: UserWarning: found multiple competing values for 'toolbar.active_drag' property; using the latest value\n",
      "  fig = gridplot(\n",
      "c:\\Users\\anith\\AppData\\Local\\Programs\\Python\\Python312\\Lib\\site-packages\\TradeMaster\\_plotting.py:660: UserWarning: found multiple competing values for 'toolbar.active_scroll' property; using the latest value\n",
      "  fig = gridplot(\n"
     ]
    },
    {
     "data": {
      "text/html": [
       "<div style=\"display: table;\"><div style=\"display: table-row;\"><div style=\"display: table-cell;\"><b title=\"bokeh.models.plots.GridPlot\">GridPlot</b>(</div><div style=\"display: table-cell;\">id&nbsp;=&nbsp;'p4381', <span id=\"p4412\" style=\"cursor: pointer;\">&hellip;)</span></div></div><div class=\"p4411\" style=\"display: none;\"><div style=\"display: table-cell;\"></div><div style=\"display: table-cell;\">align&nbsp;=&nbsp;'auto',</div></div><div class=\"p4411\" style=\"display: none;\"><div style=\"display: table-cell;\"></div><div style=\"display: table-cell;\">aspect_ratio&nbsp;=&nbsp;None,</div></div><div class=\"p4411\" style=\"display: none;\"><div style=\"display: table-cell;\"></div><div style=\"display: table-cell;\">children&nbsp;=&nbsp;[(figure(id='p4031', ...), 0, 0), (figure(id='p4128', ...), 1, 0), (figure(id='p3987', ...), 2, 0), (figure(id='p4183', ...), 3, 0), (figure(id='p4278', ...), 4, 0), (figure(id='p4323', ...), 5, 0)],</div></div><div class=\"p4411\" style=\"display: none;\"><div style=\"display: table-cell;\"></div><div style=\"display: table-cell;\">cols&nbsp;=&nbsp;None,</div></div><div class=\"p4411\" style=\"display: none;\"><div style=\"display: table-cell;\"></div><div style=\"display: table-cell;\">context_menu&nbsp;=&nbsp;None,</div></div><div class=\"p4411\" style=\"display: none;\"><div style=\"display: table-cell;\"></div><div style=\"display: table-cell;\">css_classes&nbsp;=&nbsp;[],</div></div><div class=\"p4411\" style=\"display: none;\"><div style=\"display: table-cell;\"></div><div style=\"display: table-cell;\">css_variables&nbsp;=&nbsp;{},</div></div><div class=\"p4411\" style=\"display: none;\"><div style=\"display: table-cell;\"></div><div style=\"display: table-cell;\">disabled&nbsp;=&nbsp;False,</div></div><div class=\"p4411\" style=\"display: none;\"><div style=\"display: table-cell;\"></div><div style=\"display: table-cell;\">elements&nbsp;=&nbsp;[],</div></div><div class=\"p4411\" style=\"display: none;\"><div style=\"display: table-cell;\"></div><div style=\"display: table-cell;\">flow_mode&nbsp;=&nbsp;'block',</div></div><div class=\"p4411\" style=\"display: none;\"><div style=\"display: table-cell;\"></div><div style=\"display: table-cell;\">height&nbsp;=&nbsp;None,</div></div><div class=\"p4411\" style=\"display: none;\"><div style=\"display: table-cell;\"></div><div style=\"display: table-cell;\">height_policy&nbsp;=&nbsp;'auto',</div></div><div class=\"p4411\" style=\"display: none;\"><div style=\"display: table-cell;\"></div><div style=\"display: table-cell;\">js_event_callbacks&nbsp;=&nbsp;{},</div></div><div class=\"p4411\" style=\"display: none;\"><div style=\"display: table-cell;\"></div><div style=\"display: table-cell;\">js_property_callbacks&nbsp;=&nbsp;{},</div></div><div class=\"p4411\" style=\"display: none;\"><div style=\"display: table-cell;\"></div><div style=\"display: table-cell;\">margin&nbsp;=&nbsp;None,</div></div><div class=\"p4411\" style=\"display: none;\"><div style=\"display: table-cell;\"></div><div style=\"display: table-cell;\">max_height&nbsp;=&nbsp;None,</div></div><div class=\"p4411\" style=\"display: none;\"><div style=\"display: table-cell;\"></div><div style=\"display: table-cell;\">max_width&nbsp;=&nbsp;None,</div></div><div class=\"p4411\" style=\"display: none;\"><div style=\"display: table-cell;\"></div><div style=\"display: table-cell;\">min_height&nbsp;=&nbsp;None,</div></div><div class=\"p4411\" style=\"display: none;\"><div style=\"display: table-cell;\"></div><div style=\"display: table-cell;\">min_width&nbsp;=&nbsp;None,</div></div><div class=\"p4411\" style=\"display: none;\"><div style=\"display: table-cell;\"></div><div style=\"display: table-cell;\">name&nbsp;=&nbsp;None,</div></div><div class=\"p4411\" style=\"display: none;\"><div style=\"display: table-cell;\"></div><div style=\"display: table-cell;\">resizable&nbsp;=&nbsp;False,</div></div><div class=\"p4411\" style=\"display: none;\"><div style=\"display: table-cell;\"></div><div style=\"display: table-cell;\">rows&nbsp;=&nbsp;None,</div></div><div class=\"p4411\" style=\"display: none;\"><div style=\"display: table-cell;\"></div><div style=\"display: table-cell;\">sizing_mode&nbsp;=&nbsp;'stretch_width',</div></div><div class=\"p4411\" style=\"display: none;\"><div style=\"display: table-cell;\"></div><div style=\"display: table-cell;\">spacing&nbsp;=&nbsp;0,</div></div><div class=\"p4411\" style=\"display: none;\"><div style=\"display: table-cell;\"></div><div style=\"display: table-cell;\">styles&nbsp;=&nbsp;{},</div></div><div class=\"p4411\" style=\"display: none;\"><div style=\"display: table-cell;\"></div><div style=\"display: table-cell;\">stylesheets&nbsp;=&nbsp;[],</div></div><div class=\"p4411\" style=\"display: none;\"><div style=\"display: table-cell;\"></div><div style=\"display: table-cell;\">subscribed_events&nbsp;=&nbsp;PropertyValueSet(),</div></div><div class=\"p4411\" style=\"display: none;\"><div style=\"display: table-cell;\"></div><div style=\"display: table-cell;\">syncable&nbsp;=&nbsp;True,</div></div><div class=\"p4411\" style=\"display: none;\"><div style=\"display: table-cell;\"></div><div style=\"display: table-cell;\">tags&nbsp;=&nbsp;[],</div></div><div class=\"p4411\" style=\"display: none;\"><div style=\"display: table-cell;\"></div><div style=\"display: table-cell;\">toolbar&nbsp;=&nbsp;Toolbar(id='p4380', ...),</div></div><div class=\"p4411\" style=\"display: none;\"><div style=\"display: table-cell;\"></div><div style=\"display: table-cell;\">toolbar_location&nbsp;=&nbsp;'right',</div></div><div class=\"p4411\" style=\"display: none;\"><div style=\"display: table-cell;\"></div><div style=\"display: table-cell;\">visible&nbsp;=&nbsp;True,</div></div><div class=\"p4411\" style=\"display: none;\"><div style=\"display: table-cell;\"></div><div style=\"display: table-cell;\">width&nbsp;=&nbsp;None,</div></div><div class=\"p4411\" style=\"display: none;\"><div style=\"display: table-cell;\"></div><div style=\"display: table-cell;\">width_policy&nbsp;=&nbsp;'auto')</div></div></div>\n",
       "<script>\n",
       "(function() {\n",
       "  let expanded = false;\n",
       "  const ellipsis = document.getElementById(\"p4412\");\n",
       "  ellipsis.addEventListener(\"click\", function() {\n",
       "    const rows = document.getElementsByClassName(\"p4411\");\n",
       "    for (let i = 0; i < rows.length; i++) {\n",
       "      const el = rows[i];\n",
       "      el.style.display = expanded ? \"none\" : \"table-row\";\n",
       "    }\n",
       "    ellipsis.innerHTML = expanded ? \"&hellip;)\" : \"&lsaquo;&lsaquo;&lsaquo;\";\n",
       "    expanded = !expanded;\n",
       "  });\n",
       "})();\n",
       "</script>\n"
      ],
      "text/plain": [
       "GridPlot(id='p4381', ...)"
      ]
     },
     "execution_count": 33,
     "metadata": {},
     "output_type": "execute_result"
    }
   ],
   "source": [
    "bt.plot()"
   ]
  },
  {
   "cell_type": "markdown",
   "metadata": {},
   "source": [
    "Apparently, when repeatedly retrained on past `N_TRAIN` data points in a rolling manner, our basic model generalizes poorly and performs not quite as well.\n",
    "\n",
    "This was a simple and contrived, tongue-in-cheek example that shows one way to use machine learning forecast models with _backtesting.py_ framework.\n",
    "In reality, you will need a far better feature space, better models (cf.\n",
    "[deep learning](https://en.wikipedia.org/wiki/Deep_learning#Deep_neural_networks)),\n",
    "and better money management strategies to achieve\n",
    "[consistent profits](https://en.wikipedia.org/wiki/Day_trading#Profitability)\n",
    "in automated short-term forex trading. More proper data science is an exercise for the keen reader.\n",
    "\n",
    "Some instant optimization tips that come to mind are:\n",
    "* **Data is king.** Make sure your design matrix features as best as possible model and correlate with your chosen target variable(s) and not just represent random noise.\n",
    "* Instead of modelling a single target variable $y$, model a multitude of target/class variables, possibly better designed than our \"48-hour returns\" above.\n",
    "* **Model everything:** forecast price, volume, time before it \"takes off\", SL/TP levels,\n",
    "  [optimal position size](https://en.wikipedia.org/wiki/Kelly_criterion#Application_to_the_stock_market)\n",
    "  ...\n",
    "* Reduce\n",
    "  [false positives](https://en.wikipedia.org/wiki/False_positive_rate)\n",
    "  by increasing the conviction needed and imposing extra domain expertise and discretionary limitations before entering trades.\n",
    "\n",
    "Also make sure to familiarize yourself with the full\n",
    "[Backtesting.py API reference](https://kernc.github.io/backtesting.py/doc/backtesting/index.html#header-submodules)"
   ]
  }
 ],
 "metadata": {
  "kernelspec": {
   "display_name": "Python 3",
   "language": "python",
   "name": "python3"
  },
  "language_info": {
   "codemirror_mode": {
    "name": "ipython",
    "version": 3
   },
   "file_extension": ".py",
   "mimetype": "text/x-python",
   "name": "python",
   "nbconvert_exporter": "python",
   "pygments_lexer": "ipython3",
   "version": "3.12.3"
  }
 },
 "nbformat": 4,
 "nbformat_minor": 2
}
